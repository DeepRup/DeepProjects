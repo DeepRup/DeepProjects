{
 "cells": [
  {
   "cell_type": "code",
   "execution_count": 8,
   "metadata": {},
   "outputs": [
    {
     "name": "stdout",
     "output_type": "stream",
     "text": [
      "[[ 24.   27.    3.   48. ]\n",
      " [ 41.    2.   58.2  64.5]\n",
      " [ 75.8 104.4  24.    8.1]]\n"
     ]
    }
   ],
   "source": [
    "import numpy as np\n",
    "\n",
    "A=np.array([[24,27,3,48],\n",
    "           [41,2,58.2,64.5],\n",
    "           [75.8,104.4,24,8.1]])\n",
    "print(A)"
   ]
  },
  {
   "cell_type": "code",
   "execution_count": 9,
   "metadata": {},
   "outputs": [
    {
     "name": "stdout",
     "output_type": "stream",
     "text": [
      "[140.8 133.4  85.2 120.6]\n"
     ]
    }
   ],
   "source": [
    "cal=A.sum(axis=0) #sums up the matrix vertically by coloumns\n",
    "print(cal)"
   ]
  },
  {
   "cell_type": "code",
   "execution_count": 13,
   "metadata": {},
   "outputs": [
    {
     "name": "stdout",
     "output_type": "stream",
     "text": [
      "[[17.04545455 20.23988006  3.52112676 39.80099502]\n",
      " [29.11931818  1.49925037 68.30985915 53.48258706]\n",
      " [53.83522727 78.26086957 28.16901408  6.71641791]]\n"
     ]
    }
   ],
   "source": [
    "p=100*A/cal\n",
    "print(p) "
   ]
  },
  {
   "cell_type": "code",
   "execution_count": null,
   "metadata": {},
   "outputs": [],
   "source": []
  }
 ],
 "metadata": {
  "kernelspec": {
   "display_name": "Python 3",
   "language": "python",
   "name": "python3"
  },
  "language_info": {
   "codemirror_mode": {
    "name": "ipython",
    "version": 3
   },
   "file_extension": ".py",
   "mimetype": "text/x-python",
   "name": "python",
   "nbconvert_exporter": "python",
   "pygments_lexer": "ipython3",
   "version": "3.7.4"
  }
 },
 "nbformat": 4,
 "nbformat_minor": 2
}
